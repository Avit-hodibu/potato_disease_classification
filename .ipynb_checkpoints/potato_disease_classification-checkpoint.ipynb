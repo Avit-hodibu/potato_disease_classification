{
 "cells": [
  {
   "cell_type": "markdown",
   "id": "ee957838",
   "metadata": {},
   "source": [
    "There are two disease in potato; Early Blight and Late Blight.\n",
    "\n",
    "We need to identify the disease by capturing photo."
   ]
  },
  {
   "cell_type": "markdown",
   "id": "da0cc6df",
   "metadata": {},
   "source": [
    "collect the data -> Data cleaning and preprocessing (use tf dataset and also do data augmentation) -> Model Building (CNN) -> Export the model --> use MLOPs(use tf serving)"
   ]
  }
 ],
 "metadata": {
  "kernelspec": {
   "display_name": "Python 3 (ipykernel)",
   "language": "python",
   "name": "python3"
  },
  "language_info": {
   "codemirror_mode": {
    "name": "ipython",
    "version": 3
   },
   "file_extension": ".py",
   "mimetype": "text/x-python",
   "name": "python",
   "nbconvert_exporter": "python",
   "pygments_lexer": "ipython3",
   "version": "3.9.13"
  }
 },
 "nbformat": 4,
 "nbformat_minor": 5
}
